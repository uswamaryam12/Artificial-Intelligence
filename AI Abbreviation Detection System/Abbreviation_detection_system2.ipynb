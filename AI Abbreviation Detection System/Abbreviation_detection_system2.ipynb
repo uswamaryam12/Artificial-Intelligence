{
  "cells": [
    {
      "cell_type": "code",
      "execution_count": 1,
      "metadata": {
        "colab": {
          "base_uri": "https://localhost:8080/"
        },
        "id": "1mq_Xb2iRowf",
        "outputId": "7bea5a89-536b-4e62-b992-6f7fcf928e07"
      },
      "outputs": [
        {
          "name": "stdout",
          "output_type": "stream",
          "text": [
            "Requirement already satisfied: datasets in c:\\users\\administrator\\appdata\\local\\programs\\python\\python311\\lib\\site-packages (2.16.1)\n",
            "Requirement already satisfied: filelock in c:\\users\\administrator\\appdata\\local\\programs\\python\\python311\\lib\\site-packages (from datasets) (3.13.1)\n",
            "Requirement already satisfied: numpy>=1.17 in c:\\users\\administrator\\appdata\\local\\programs\\python\\python311\\lib\\site-packages (from datasets) (1.26.1)\n",
            "Requirement already satisfied: pyarrow>=8.0.0 in c:\\users\\administrator\\appdata\\local\\programs\\python\\python311\\lib\\site-packages (from datasets) (15.0.0)\n",
            "Requirement already satisfied: pyarrow-hotfix in c:\\users\\administrator\\appdata\\local\\programs\\python\\python311\\lib\\site-packages (from datasets) (0.6)\n",
            "Requirement already satisfied: dill<0.3.8,>=0.3.0 in c:\\users\\administrator\\appdata\\local\\programs\\python\\python311\\lib\\site-packages (from datasets) (0.3.7)\n",
            "Requirement already satisfied: pandas in c:\\users\\administrator\\appdata\\local\\programs\\python\\python311\\lib\\site-packages (from datasets) (2.1.2)\n",
            "Requirement already satisfied: requests>=2.19.0 in c:\\users\\administrator\\appdata\\local\\programs\\python\\python311\\lib\\site-packages (from datasets) (2.31.0)\n",
            "Requirement already satisfied: tqdm>=4.62.1 in c:\\users\\administrator\\appdata\\local\\programs\\python\\python311\\lib\\site-packages (from datasets) (4.66.1)\n",
            "Requirement already satisfied: xxhash in c:\\users\\administrator\\appdata\\local\\programs\\python\\python311\\lib\\site-packages (from datasets) (3.4.1)\n",
            "Requirement already satisfied: multiprocess in c:\\users\\administrator\\appdata\\local\\programs\\python\\python311\\lib\\site-packages (from datasets) (0.70.15)\n",
            "Requirement already satisfied: fsspec<=2023.10.0,>=2023.1.0 in c:\\users\\administrator\\appdata\\local\\programs\\python\\python311\\lib\\site-packages (from fsspec[http]<=2023.10.0,>=2023.1.0->datasets) (2023.10.0)\n",
            "Requirement already satisfied: aiohttp in c:\\users\\administrator\\appdata\\local\\programs\\python\\python311\\lib\\site-packages (from datasets) (3.9.3)\n",
            "Requirement already satisfied: huggingface-hub>=0.19.4 in c:\\users\\administrator\\appdata\\local\\programs\\python\\python311\\lib\\site-packages (from datasets) (0.20.3)\n",
            "Requirement already satisfied: packaging in c:\\users\\administrator\\appdata\\local\\programs\\python\\python311\\lib\\site-packages (from datasets) (23.2)\n",
            "Requirement already satisfied: pyyaml>=5.1 in c:\\users\\administrator\\appdata\\local\\programs\\python\\python311\\lib\\site-packages (from datasets) (6.0.1)\n",
            "Requirement already satisfied: aiosignal>=1.1.2 in c:\\users\\administrator\\appdata\\local\\programs\\python\\python311\\lib\\site-packages (from aiohttp->datasets) (1.3.1)\n",
            "Requirement already satisfied: attrs>=17.3.0 in c:\\users\\administrator\\appdata\\local\\programs\\python\\python311\\lib\\site-packages (from aiohttp->datasets) (23.1.0)\n",
            "Requirement already satisfied: frozenlist>=1.1.1 in c:\\users\\administrator\\appdata\\local\\programs\\python\\python311\\lib\\site-packages (from aiohttp->datasets) (1.4.1)\n",
            "Requirement already satisfied: multidict<7.0,>=4.5 in c:\\users\\administrator\\appdata\\local\\programs\\python\\python311\\lib\\site-packages (from aiohttp->datasets) (6.0.5)\n",
            "Requirement already satisfied: yarl<2.0,>=1.0 in c:\\users\\administrator\\appdata\\local\\programs\\python\\python311\\lib\\site-packages (from aiohttp->datasets) (1.9.4)\n",
            "Requirement already satisfied: typing-extensions>=3.7.4.3 in c:\\users\\administrator\\appdata\\local\\programs\\python\\python311\\lib\\site-packages (from huggingface-hub>=0.19.4->datasets) (4.8.0)\n",
            "Requirement already satisfied: charset-normalizer<4,>=2 in c:\\users\\administrator\\appdata\\local\\programs\\python\\python311\\lib\\site-packages (from requests>=2.19.0->datasets) (3.3.2)\n",
            "Requirement already satisfied: idna<4,>=2.5 in c:\\users\\administrator\\appdata\\roaming\\python\\python311\\site-packages (from requests>=2.19.0->datasets) (2.10)\n",
            "Requirement already satisfied: urllib3<3,>=1.21.1 in c:\\users\\administrator\\appdata\\local\\programs\\python\\python311\\lib\\site-packages (from requests>=2.19.0->datasets) (2.0.7)\n",
            "Requirement already satisfied: certifi>=2017.4.17 in c:\\users\\administrator\\appdata\\local\\programs\\python\\python311\\lib\\site-packages (from requests>=2.19.0->datasets) (2023.7.22)\n",
            "Requirement already satisfied: colorama in c:\\users\\administrator\\appdata\\local\\programs\\python\\python311\\lib\\site-packages (from tqdm>=4.62.1->datasets) (0.4.6)\n",
            "Requirement already satisfied: python-dateutil>=2.8.2 in c:\\users\\administrator\\appdata\\local\\programs\\python\\python311\\lib\\site-packages (from pandas->datasets) (2.8.2)\n",
            "Requirement already satisfied: pytz>=2020.1 in c:\\users\\administrator\\appdata\\local\\programs\\python\\python311\\lib\\site-packages (from pandas->datasets) (2023.3.post1)\n",
            "Requirement already satisfied: tzdata>=2022.1 in c:\\users\\administrator\\appdata\\local\\programs\\python\\python311\\lib\\site-packages (from pandas->datasets) (2023.3)\n",
            "Requirement already satisfied: six>=1.5 in c:\\users\\administrator\\appdata\\local\\programs\\python\\python311\\lib\\site-packages (from python-dateutil>=2.8.2->pandas->datasets) (1.16.0)\n",
            "Requirement already satisfied: transformers in c:\\users\\administrator\\appdata\\local\\programs\\python\\python311\\lib\\site-packages (4.37.2)\n",
            "Requirement already satisfied: filelock in c:\\users\\administrator\\appdata\\local\\programs\\python\\python311\\lib\\site-packages (from transformers) (3.13.1)\n",
            "Requirement already satisfied: huggingface-hub<1.0,>=0.19.3 in c:\\users\\administrator\\appdata\\local\\programs\\python\\python311\\lib\\site-packages (from transformers) (0.20.3)\n",
            "Requirement already satisfied: numpy>=1.17 in c:\\users\\administrator\\appdata\\local\\programs\\python\\python311\\lib\\site-packages (from transformers) (1.26.1)\n",
            "Requirement already satisfied: packaging>=20.0 in c:\\users\\administrator\\appdata\\local\\programs\\python\\python311\\lib\\site-packages (from transformers) (23.2)\n",
            "Requirement already satisfied: pyyaml>=5.1 in c:\\users\\administrator\\appdata\\local\\programs\\python\\python311\\lib\\site-packages (from transformers) (6.0.1)\n",
            "Requirement already satisfied: regex!=2019.12.17 in c:\\users\\administrator\\appdata\\local\\programs\\python\\python311\\lib\\site-packages (from transformers) (2023.10.3)\n",
            "Requirement already satisfied: requests in c:\\users\\administrator\\appdata\\local\\programs\\python\\python311\\lib\\site-packages (from transformers) (2.31.0)\n",
            "Requirement already satisfied: tokenizers<0.19,>=0.14 in c:\\users\\administrator\\appdata\\local\\programs\\python\\python311\\lib\\site-packages (from transformers) (0.15.1)\n",
            "Requirement already satisfied: safetensors>=0.4.1 in c:\\users\\administrator\\appdata\\local\\programs\\python\\python311\\lib\\site-packages (from transformers) (0.4.2)\n",
            "Requirement already satisfied: tqdm>=4.27 in c:\\users\\administrator\\appdata\\local\\programs\\python\\python311\\lib\\site-packages (from transformers) (4.66.1)\n",
            "Requirement already satisfied: fsspec>=2023.5.0 in c:\\users\\administrator\\appdata\\local\\programs\\python\\python311\\lib\\site-packages (from huggingface-hub<1.0,>=0.19.3->transformers) (2023.10.0)\n",
            "Requirement already satisfied: typing-extensions>=3.7.4.3 in c:\\users\\administrator\\appdata\\local\\programs\\python\\python311\\lib\\site-packages (from huggingface-hub<1.0,>=0.19.3->transformers) (4.8.0)\n",
            "Requirement already satisfied: colorama in c:\\users\\administrator\\appdata\\local\\programs\\python\\python311\\lib\\site-packages (from tqdm>=4.27->transformers) (0.4.6)\n",
            "Requirement already satisfied: charset-normalizer<4,>=2 in c:\\users\\administrator\\appdata\\local\\programs\\python\\python311\\lib\\site-packages (from requests->transformers) (3.3.2)\n",
            "Requirement already satisfied: idna<4,>=2.5 in c:\\users\\administrator\\appdata\\roaming\\python\\python311\\site-packages (from requests->transformers) (2.10)\n",
            "Requirement already satisfied: urllib3<3,>=1.21.1 in c:\\users\\administrator\\appdata\\local\\programs\\python\\python311\\lib\\site-packages (from requests->transformers) (2.0.7)\n",
            "Requirement already satisfied: certifi>=2017.4.17 in c:\\users\\administrator\\appdata\\local\\programs\\python\\python311\\lib\\site-packages (from requests->transformers) (2023.7.22)\n"
          ]
        }
      ],
      "source": [
        "!pip install datasets\n",
        "!pip install transformers\n"
      ]
    },
    {
      "cell_type": "code",
      "execution_count": 2,
      "metadata": {
        "id": "UnBCwK22VS9X"
      },
      "outputs": [],
      "source": [
        "!pip install accelerate>=0.21.0"
      ]
    },
    {
      "cell_type": "code",
      "execution_count": 3,
      "metadata": {
        "id": "6Rcql764JIR_"
      },
      "outputs": [],
      "source": [
        "# Now, let's import the necessary modules\n",
        "import torch\n",
        "import re\n",
        "from datasets import load_dataset\n",
        "from transformers import BertTokenizerFast, BertForTokenClassification, Trainer, TrainingArguments, DataCollatorForTokenClassification\n"
      ]
    },
    {
      "cell_type": "code",
      "execution_count": 4,
      "metadata": {
        "id": "Sft4hUpnJKe7"
      },
      "outputs": [],
      "source": [
        "dataset = load_dataset(\"surrey-nlp/PLOD-CW\")"
      ]
    },
    {
      "cell_type": "code",
      "execution_count": 5,
      "metadata": {},
      "outputs": [],
      "source": [
        "# Assuming 'train' split, adjust accordingly\n",
        "train_data = dataset['train']\n",
        "val_data = dataset['validation']\n",
        "test_data = dataset['test']"
      ]
    },
    {
      "cell_type": "code",
      "execution_count": 6,
      "metadata": {},
      "outputs": [],
      "source": [
        "# Define the abbreviation labels\n",
        "abbreviation_labels = [\"B-ABBREV\", \"I-ABBREV\", \"O\"]\n",
        "\n",
        "# Initialize the BERT tokenizer\n",
        "tokenizer = BertTokenizerFast.from_pretrained(\"bert-base-uncased\")"
      ]
    },
    {
      "cell_type": "code",
      "execution_count": 7,
      "metadata": {},
      "outputs": [],
      "source": [
        "# Preprocess the data\n",
        "def preprocess_data(data):\n",
        "    preprocessed_data = []\n",
        "    for sample in data:\n",
        "        tokens = sample['tokens']\n",
        "        text = \" \".join(tokens).lower()\n",
        "        text = re.sub(r'[^\\w\\s]', '', text)\n",
        "        preprocessed_data.append({'text': text, 'label': sample['ner_tags']})\n",
        "    return preprocessed_data"
      ]
    },
    {
      "cell_type": "code",
      "execution_count": 8,
      "metadata": {},
      "outputs": [],
      "source": [
        "train_data = preprocess_data(train_data)\n",
        "val_data = preprocess_data(val_data)\n",
        "test_data = preprocess_data(test_data)\n",
        "\n",
        "# Tokenize and encode the training, validation, and test datasets\n",
        "train_encodings = tokenizer([x['text'] for x in train_data], truncation=True, padding=True, return_tensors=\"pt\")\n",
        "val_encodings = tokenizer([x['text'] for x in val_data], truncation=True, padding=True, return_tensors=\"pt\")\n",
        "test_encodings = tokenizer([x['text'] for x in test_data], truncation=True, padding=True, return_tensors=\"pt\")\n"
      ]
    },
    {
      "cell_type": "code",
      "execution_count": 9,
      "metadata": {},
      "outputs": [],
      "source": [
        "# Convert the labels to their corresponding numerical values\n",
        "def convert_labels_to_numerical(labels):\n",
        "    return [[abbreviation_labels.index(label) for label in sample if label in abbreviation_labels] for sample in labels]\n",
        "\n",
        "train_labels = convert_labels_to_numerical([x['label'] for x in train_data])\n",
        "val_labels = convert_labels_to_numerical([x['label'] for x in val_data])\n",
        "test_labels = convert_labels_to_numerical([x['label'] for x in test_data])\n",
        "\n",
        "# Create PyTorch Dataset objects for training, validation, and testing\n",
        "train_dataset = [{\"input_ids\": train_encodings['input_ids'][i], \"attention_mask\": train_encodings['attention_mask'][i], \"labels\": torch.tensor(train_labels[i])} for i in range(len(train_labels))]\n",
        "val_dataset = [{\"input_ids\": val_encodings['input_ids'][i], \"attention_mask\": val_encodings['attention_mask'][i], \"labels\": torch.tensor(val_labels[i])} for i in range(len(val_labels))]\n",
        "test_dataset = [{\"input_ids\": test_encodings['input_ids'][i], \"attention_mask\": test_encodings['attention_mask'][i], \"labels\": torch.tensor(test_labels[i])} for i in range(len(test_labels))]\n"
      ]
    },
    {
      "cell_type": "code",
      "execution_count": 10,
      "metadata": {},
      "outputs": [
        {
          "name": "stderr",
          "output_type": "stream",
          "text": [
            "Some weights of BertForTokenClassification were not initialized from the model checkpoint at bert-base-uncased and are newly initialized: ['classifier.bias', 'classifier.weight']\n",
            "You should probably TRAIN this model on a down-stream task to be able to use it for predictions and inference.\n"
          ]
        }
      ],
      "source": [
        "# Initialize the BERT-based token classification model\n",
        "model = BertForTokenClassification.from_pretrained(\"bert-base-uncased\", num_labels=len(abbreviation_labels))"
      ]
    },
    {
      "cell_type": "code",
      "execution_count": 11,
      "metadata": {},
      "outputs": [
        {
          "name": "stderr",
          "output_type": "stream",
          "text": [
            "c:\\Users\\Administrator\\AppData\\Local\\Programs\\Python\\Python311\\Lib\\site-packages\\accelerate\\accelerator.py:436: FutureWarning: Passing the following arguments to `Accelerator` is deprecated and will be removed in version 1.0 of Accelerate: dict_keys(['dispatch_batches', 'split_batches']). Please pass an `accelerate.DataLoaderConfiguration` instead: \n",
            "dataloader_config = DataLoaderConfiguration(dispatch_batches=None, split_batches=False)\n",
            "  warnings.warn(\n"
          ]
        }
      ],
      "source": [
        "# Define the training arguments\n",
        "training_args = TrainingArguments(\n",
        "    output_dir='./output',\n",
        "    per_device_train_batch_size=8,\n",
        "    per_device_eval_batch_size=8,\n",
        "    num_train_epochs=3,\n",
        "    logging_dir='./logs',\n",
        "    logging_steps=10,\n",
        "    save_steps=50,\n",
        "    evaluation_strategy=\"steps\",\n",
        "    eval_steps=50,\n",
        "    load_best_model_at_end=True,\n",
        "    metric_for_best_model=\"eval_loss\",\n",
        "    greater_is_better=False\n",
        ")\n",
        "\n",
        "# Define Trainer\n",
        "trainer = Trainer(\n",
        "    model=model,\n",
        "    args=training_args,\n",
        "    train_dataset=train_dataset,\n",
        "    eval_dataset=val_dataset,\n",
        "    data_collator=DataCollatorForTokenClassification(tokenizer)\n",
        ")"
      ]
    },
    {
      "cell_type": "code",
      "execution_count": 12,
      "metadata": {},
      "outputs": [
        {
          "data": {
            "application/vnd.jupyter.widget-view+json": {
              "model_id": "0a88b7f0ec3b4b1b8ecbccd546fe9851",
              "version_major": 2,
              "version_minor": 0
            },
            "text/plain": [
              "  0%|          | 0/402 [00:00<?, ?it/s]"
            ]
          },
          "metadata": {},
          "output_type": "display_data"
        },
        {
          "name": "stdout",
          "output_type": "stream",
          "text": [
            "{'loss': 0.0, 'learning_rate': 4.875621890547264e-05, 'epoch': 0.07}\n",
            "{'loss': 0.0, 'learning_rate': 4.7512437810945275e-05, 'epoch': 0.15}\n",
            "{'loss': 0.0, 'learning_rate': 4.626865671641791e-05, 'epoch': 0.22}\n",
            "{'loss': 0.0, 'learning_rate': 4.502487562189055e-05, 'epoch': 0.3}\n",
            "{'loss': 0.0, 'learning_rate': 4.3781094527363184e-05, 'epoch': 0.37}\n"
          ]
        },
        {
          "data": {
            "application/vnd.jupyter.widget-view+json": {
              "model_id": "cebf89e199a9401ea0f623e1bcb62733",
              "version_major": 2,
              "version_minor": 0
            },
            "text/plain": [
              "  0%|          | 0/16 [00:00<?, ?it/s]"
            ]
          },
          "metadata": {},
          "output_type": "display_data"
        },
        {
          "name": "stderr",
          "output_type": "stream",
          "text": [
            "Checkpoint destination directory ./output\\checkpoint-50 already exists and is non-empty.Saving will proceed but saved results may be invalid.\n"
          ]
        },
        {
          "name": "stdout",
          "output_type": "stream",
          "text": [
            "{'eval_loss': nan, 'eval_runtime': 28.2166, 'eval_samples_per_second': 4.465, 'eval_steps_per_second': 0.567, 'epoch': 0.37}\n",
            "{'loss': 0.0, 'learning_rate': 4.253731343283582e-05, 'epoch': 0.45}\n",
            "{'loss': 0.0, 'learning_rate': 4.1293532338308464e-05, 'epoch': 0.52}\n",
            "{'loss': 0.0, 'learning_rate': 4.00497512437811e-05, 'epoch': 0.6}\n",
            "{'loss': 0.0, 'learning_rate': 3.8805970149253736e-05, 'epoch': 0.67}\n",
            "{'loss': 0.0, 'learning_rate': 3.756218905472637e-05, 'epoch': 0.75}\n"
          ]
        },
        {
          "data": {
            "application/vnd.jupyter.widget-view+json": {
              "model_id": "01e50a391c994a1fae557d45deb95497",
              "version_major": 2,
              "version_minor": 0
            },
            "text/plain": [
              "  0%|          | 0/16 [00:00<?, ?it/s]"
            ]
          },
          "metadata": {},
          "output_type": "display_data"
        },
        {
          "name": "stderr",
          "output_type": "stream",
          "text": [
            "Checkpoint destination directory ./output\\checkpoint-100 already exists and is non-empty.Saving will proceed but saved results may be invalid.\n"
          ]
        },
        {
          "name": "stdout",
          "output_type": "stream",
          "text": [
            "{'eval_loss': nan, 'eval_runtime': 29.2682, 'eval_samples_per_second': 4.305, 'eval_steps_per_second': 0.547, 'epoch': 0.75}\n",
            "{'loss': 0.0, 'learning_rate': 3.631840796019901e-05, 'epoch': 0.82}\n",
            "{'loss': 0.0, 'learning_rate': 3.5074626865671645e-05, 'epoch': 0.9}\n",
            "{'loss': 0.0, 'learning_rate': 3.383084577114428e-05, 'epoch': 0.97}\n",
            "{'loss': 0.0, 'learning_rate': 3.258706467661692e-05, 'epoch': 1.04}\n",
            "{'loss': 0.0, 'learning_rate': 3.1343283582089554e-05, 'epoch': 1.12}\n"
          ]
        },
        {
          "data": {
            "application/vnd.jupyter.widget-view+json": {
              "model_id": "6bc05afc28af4304a8e6c01d5c9b954e",
              "version_major": 2,
              "version_minor": 0
            },
            "text/plain": [
              "  0%|          | 0/16 [00:00<?, ?it/s]"
            ]
          },
          "metadata": {},
          "output_type": "display_data"
        },
        {
          "name": "stdout",
          "output_type": "stream",
          "text": [
            "{'eval_loss': nan, 'eval_runtime': 30.0084, 'eval_samples_per_second': 4.199, 'eval_steps_per_second': 0.533, 'epoch': 1.12}\n",
            "{'loss': 0.0, 'learning_rate': 3.009950248756219e-05, 'epoch': 1.19}\n",
            "{'loss': 0.0, 'learning_rate': 2.885572139303483e-05, 'epoch': 1.27}\n",
            "{'loss': 0.0, 'learning_rate': 2.7611940298507467e-05, 'epoch': 1.34}\n",
            "{'loss': 0.0, 'learning_rate': 2.6368159203980103e-05, 'epoch': 1.42}\n",
            "{'loss': 0.0, 'learning_rate': 2.512437810945274e-05, 'epoch': 1.49}\n"
          ]
        },
        {
          "data": {
            "application/vnd.jupyter.widget-view+json": {
              "model_id": "3e4343d509b34a58a4c3eb6dd33169af",
              "version_major": 2,
              "version_minor": 0
            },
            "text/plain": [
              "  0%|          | 0/16 [00:00<?, ?it/s]"
            ]
          },
          "metadata": {},
          "output_type": "display_data"
        },
        {
          "name": "stdout",
          "output_type": "stream",
          "text": [
            "{'eval_loss': nan, 'eval_runtime': 44.211, 'eval_samples_per_second': 2.85, 'eval_steps_per_second': 0.362, 'epoch': 1.49}\n",
            "{'loss': 0.0, 'learning_rate': 2.3880597014925373e-05, 'epoch': 1.57}\n",
            "{'loss': 0.0, 'learning_rate': 2.2636815920398012e-05, 'epoch': 1.64}\n",
            "{'loss': 0.0, 'learning_rate': 2.139303482587065e-05, 'epoch': 1.72}\n",
            "{'loss': 0.0, 'learning_rate': 2.0149253731343285e-05, 'epoch': 1.79}\n",
            "{'loss': 0.0, 'learning_rate': 1.890547263681592e-05, 'epoch': 1.87}\n"
          ]
        },
        {
          "data": {
            "application/vnd.jupyter.widget-view+json": {
              "model_id": "0d962babd465499188a8dfefa699f636",
              "version_major": 2,
              "version_minor": 0
            },
            "text/plain": [
              "  0%|          | 0/16 [00:00<?, ?it/s]"
            ]
          },
          "metadata": {},
          "output_type": "display_data"
        },
        {
          "name": "stdout",
          "output_type": "stream",
          "text": [
            "{'eval_loss': nan, 'eval_runtime': 45.2551, 'eval_samples_per_second': 2.784, 'eval_steps_per_second': 0.354, 'epoch': 1.87}\n",
            "{'loss': 0.0, 'learning_rate': 1.7661691542288558e-05, 'epoch': 1.94}\n",
            "{'loss': 0.0, 'learning_rate': 1.6417910447761194e-05, 'epoch': 2.01}\n",
            "{'loss': 0.0, 'learning_rate': 1.5174129353233832e-05, 'epoch': 2.09}\n",
            "{'loss': 0.0, 'learning_rate': 1.3930348258706468e-05, 'epoch': 2.16}\n",
            "{'loss': 0.0, 'learning_rate': 1.2686567164179105e-05, 'epoch': 2.24}\n"
          ]
        },
        {
          "data": {
            "application/vnd.jupyter.widget-view+json": {
              "model_id": "fd7701a2132c434f95964b4d14df36e9",
              "version_major": 2,
              "version_minor": 0
            },
            "text/plain": [
              "  0%|          | 0/16 [00:00<?, ?it/s]"
            ]
          },
          "metadata": {},
          "output_type": "display_data"
        },
        {
          "name": "stdout",
          "output_type": "stream",
          "text": [
            "{'eval_loss': nan, 'eval_runtime': 45.5454, 'eval_samples_per_second': 2.766, 'eval_steps_per_second': 0.351, 'epoch': 2.24}\n",
            "{'loss': 0.0, 'learning_rate': 1.1442786069651743e-05, 'epoch': 2.31}\n",
            "{'loss': 0.0, 'learning_rate': 1.0199004975124378e-05, 'epoch': 2.39}\n",
            "{'loss': 0.0, 'learning_rate': 8.955223880597016e-06, 'epoch': 2.46}\n",
            "{'loss': 0.0, 'learning_rate': 7.711442786069652e-06, 'epoch': 2.54}\n",
            "{'loss': 0.0, 'learning_rate': 6.467661691542288e-06, 'epoch': 2.61}\n"
          ]
        },
        {
          "data": {
            "application/vnd.jupyter.widget-view+json": {
              "model_id": "d7d7a8c1fa1d40719fb6e72abce2f143",
              "version_major": 2,
              "version_minor": 0
            },
            "text/plain": [
              "  0%|          | 0/16 [00:00<?, ?it/s]"
            ]
          },
          "metadata": {},
          "output_type": "display_data"
        },
        {
          "name": "stdout",
          "output_type": "stream",
          "text": [
            "{'eval_loss': nan, 'eval_runtime': 34.2682, 'eval_samples_per_second': 3.677, 'eval_steps_per_second': 0.467, 'epoch': 2.61}\n",
            "{'loss': 0.0, 'learning_rate': 5.2238805970149255e-06, 'epoch': 2.69}\n",
            "{'loss': 0.0, 'learning_rate': 3.980099502487563e-06, 'epoch': 2.76}\n",
            "{'loss': 0.0, 'learning_rate': 2.736318407960199e-06, 'epoch': 2.84}\n",
            "{'loss': 0.0, 'learning_rate': 1.4925373134328358e-06, 'epoch': 2.91}\n",
            "{'loss': 0.0, 'learning_rate': 2.4875621890547267e-07, 'epoch': 2.99}\n"
          ]
        },
        {
          "data": {
            "application/vnd.jupyter.widget-view+json": {
              "model_id": "ddd97f6ac68746999b4d7e8fb6c1992f",
              "version_major": 2,
              "version_minor": 0
            },
            "text/plain": [
              "  0%|          | 0/16 [00:00<?, ?it/s]"
            ]
          },
          "metadata": {},
          "output_type": "display_data"
        },
        {
          "name": "stdout",
          "output_type": "stream",
          "text": [
            "{'eval_loss': nan, 'eval_runtime': 27.1692, 'eval_samples_per_second': 4.638, 'eval_steps_per_second': 0.589, 'epoch': 2.99}\n",
            "{'train_runtime': 12327.9953, 'train_samples_per_second': 0.261, 'train_steps_per_second': 0.033, 'train_loss': 0.0, 'epoch': 3.0}\n"
          ]
        },
        {
          "data": {
            "application/vnd.jupyter.widget-view+json": {
              "model_id": "ffd6d3854f714668a0c482e2081a5869",
              "version_major": 2,
              "version_minor": 0
            },
            "text/plain": [
              "  0%|          | 0/20 [00:00<?, ?it/s]"
            ]
          },
          "metadata": {},
          "output_type": "display_data"
        },
        {
          "data": {
            "text/plain": [
              "{'eval_loss': nan,\n",
              " 'eval_runtime': 28.6683,\n",
              " 'eval_samples_per_second': 5.337,\n",
              " 'eval_steps_per_second': 0.698,\n",
              " 'epoch': 3.0}"
            ]
          },
          "execution_count": 12,
          "metadata": {},
          "output_type": "execute_result"
        }
      ],
      "source": [
        "# Train the model\n",
        "trainer.train()\n",
        "\n",
        "# Evaluate the model on the test set\n",
        "trainer.evaluate(test_dataset)\n"
      ]
    },
    {
      "cell_type": "code",
      "execution_count": 24,
      "metadata": {},
      "outputs": [
        {
          "name": "stdout",
          "output_type": "stream",
          "text": [
            "{'eval_loss': nan, 'eval_runtime': 26.6505, 'eval_samples_per_second': 5.741, 'eval_steps_per_second': 0.75, 'epoch': 3.0}\n"
          ]
        }
      ],
      "source": [
        "# Print evaluation metrics\n",
        "print(evaluation_results)"
      ]
    },
    {
      "cell_type": "code",
      "execution_count": 25,
      "metadata": {},
      "outputs": [],
      "source": [
        "# Save the model\n",
        "output_dir = \"C:\\\\Users\\\\Administrator\\\\Downloads\\\\Abbreviation detection system\"\n",
        "trainer.save_model(output_dir)"
      ]
    },
    {
      "cell_type": "code",
      "execution_count": 27,
      "metadata": {},
      "outputs": [
        {
          "name": "stdout",
          "output_type": "stream",
          "text": [
            "['LABEL_2', 'LABEL_2', 'LABEL_0', 'LABEL_0', 'LABEL_2', 'LABEL_2']\n"
          ]
        }
      ],
      "source": [
        "from transformers import BertTokenizerFast, BertForTokenClassification\n",
        "import torch\n",
        "\n",
        "# Load the saved model\n",
        "model = BertForTokenClassification.from_pretrained(\"C:\\\\Users\\\\Administrator\\\\Downloads\\\\Abbreviation detection system\")\n",
        "\n",
        "# Initialize the tokenizer\n",
        "tokenizer = BertTokenizerFast.from_pretrained(\"bert-base-uncased\")\n",
        "\n",
        "# Define a function to preprocess new data\n",
        "def preprocess_text(text):\n",
        "    # Tokenize the text\n",
        "    inputs = tokenizer(text, truncation=True, padding=True, return_tensors=\"pt\")\n",
        "    return inputs\n",
        "\n",
        "# Example text for testing\n",
        "text = \"A SAMPLE TEST.\"\n",
        "\n",
        "# Preprocess the text\n",
        "inputs = preprocess_text(text)\n",
        "\n",
        "# Make predictions\n",
        "with torch.no_grad():\n",
        "    outputs = model(**inputs)\n",
        "\n",
        "# Extract predicted labels\n",
        "predicted_labels = torch.argmax(outputs.logits, dim=2).tolist()[0]\n",
        "\n",
        "# Convert label IDs back to labels\n",
        "predicted_labels = [model.config.id2label[label_id] for label_id in predicted_labels]\n",
        "\n",
        "# Print the predicted labels\n",
        "print(predicted_labels)\n"
      ]
    }
  ],
  "metadata": {
    "colab": {
      "provenance": []
    },
    "kernelspec": {
      "display_name": "Python 3",
      "name": "python3"
    },
    "language_info": {
      "codemirror_mode": {
        "name": "ipython",
        "version": 3
      },
      "file_extension": ".py",
      "mimetype": "text/x-python",
      "name": "python",
      "nbconvert_exporter": "python",
      "pygments_lexer": "ipython3",
      "version": "3.11.6"
    }
  },
  "nbformat": 4,
  "nbformat_minor": 0
}
